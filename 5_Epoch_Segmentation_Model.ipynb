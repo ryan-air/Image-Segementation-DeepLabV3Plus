{
  "nbformat": 4,
  "nbformat_minor": 0,
  "metadata": {
    "colab": {
      "provenance": []
    },
    "kernelspec": {
      "name": "python3",
      "display_name": "Python 3"
    },
    "language_info": {
      "name": "python"
    }
  },
  "cells": [
    {
      "cell_type": "markdown",
      "source": [
        "**Image Segmentation Model Iteration 1**\n",
        "\n",
        "1. Trained at 5 epochs\n",
        "2. 215 MB\n",
        "2. Refer to readme.md for information regarding training.\n",
        "\n",
        "---\n",
        "[Click Here for Model Download](https://drive.google.com/file/d/16VyirEnsJHvAa4HIK-kL0Nphldoxc5PV/view?usp=sharing)\n"
      ],
      "metadata": {
        "id": "la7PqwsQASRd"
      }
    }
  ]
}