{
  "nbformat": 4,
  "nbformat_minor": 0,
  "metadata": {
    "colab": {
      "provenance": []
    },
    "kernelspec": {
      "name": "python3",
      "display_name": "Python 3"
    },
    "language_info": {
      "name": "python"
    }
  },
  "cells": [
    {
      "cell_type": "markdown",
      "source": [
        "**Image Segmentation Model Iteration 2**\n",
        "\n",
        "1. Trained at 10 epochs\n",
        "2. 215 MB\n",
        "2. Refer to readme.md for information regarding training.\n",
        "\n",
        "---\n",
        "[Click Here for Model Download](https://drive.google.com/file/d/1tnGlrxVlymAaUcKmdVd5DxH_AFFOYL6w/view?usp=drive_link)\n"
      ],
      "metadata": {
        "id": "la7PqwsQASRd"
      }
    }
  ]
}